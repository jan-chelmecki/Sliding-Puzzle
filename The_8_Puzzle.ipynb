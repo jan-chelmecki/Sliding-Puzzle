{
 "cells": [
  {
   "cell_type": "markdown",
   "metadata": {},
   "source": [
    "# The 8-puzzle\n",
    "\n",
    "The following project is a simple application of the A* algorithm to the sliding puzzle problem:\n",
    "\n",
    "https://en.wikipedia.org/wiki/Sliding_puzzle\n",
    "\n",
    "It was intented as an exercise in dynamic programming."
   ]
  },
  {
   "cell_type": "code",
   "execution_count": null,
   "metadata": {},
   "outputs": [
    {
     "name": "stdout",
     "output_type": "stream",
     "text": [
      "[[8 3 0]\n",
      " [1 7 2]\n",
      " [5 4 6]]\n"
     ]
    },
    {
     "data": {
      "text/plain": [
       "[array([[8, 3, 2],\n",
       "        [1, 7, 0],\n",
       "        [5, 4, 6]]),\n",
       " array([[8, 0, 3],\n",
       "        [1, 7, 2],\n",
       "        [5, 4, 6]])]"
      ]
     },
     "execution_count": 269,
     "metadata": {},
     "output_type": "execute_result"
    }
   ],
   "source": [
    "import numpy as np\n",
    "import random\n",
    "import matplotlib.pyplot as plt\n",
    "\n",
    "def make_default_board(rank=3):\n",
    "    \"\"\"\n",
    "    e.g. (depending on rank) :\n",
    "    0 1 2\n",
    "    3 4 5\n",
    "    6 7 8        \n",
    "    \"\"\"\n",
    "    return np.arange(rank**2).reshape(rank,rank)\n",
    "\n",
    "def board(seq):\n",
    "    rank = int(np.sqrt(len(seq)))\n",
    "    return np.array(seq).reshape(rank, rank)\n",
    "\n",
    "def move_zero(b,r0,c0,r,c):\n",
    "    b1 = np.copy(b)\n",
    "    b1[r0,c0] = b1[r,c]\n",
    "    b1[r,c] = 0\n",
    "    return b1\n",
    "\n",
    "def neighbours(b, rank):\n",
    "    r0, c0 = np.where(b==0)[0][0], np.where(b==0)[1][0] #position of 0\n",
    "    n_list = []\n",
    "    for (r,c) in [(r0+1,c0), (r0-1,c0), (r0,c0+1), (r0,c0-1)]:\n",
    "        if -1<r and r<rank and -1<c and c<rank:\n",
    "            n_list.append(move_zero(b,r0,c0,r,c))\n",
    "    return n_list\n",
    "    \n",
    "def make_random_board(rank=3):\n",
    "    b = make_default_board(rank)\n",
    "    random_steps = random.randint(100,200) #use a random number of steps to circumvent 2-periodicity; the latter WILL come back to bite us, but it is still desirable to be able to generate all the grids\n",
    "    for s in range(random_steps):\n",
    "        n_list = neighbours(b,rank)\n",
    "        b = n_list[random.randint(0,len(n_list)-1)]\n",
    "    return b\n",
    "\n",
    "\n",
    "b = make_random_board()\n",
    "print(b)\n",
    "neighbours(b,3)"
   ]
  },
  {
   "cell_type": "markdown",
   "metadata": {},
   "source": [
    "A* needs heuristic distance estimates and we will construct them as follows. Using the $ |\\delta x |+|\\delta y|$ metric on the board, each move displaces a single tile by the distance of 1 and hence the number of moves needed to transform b1 into b2 is greater or equal to the sum of required displacements of individual tiles. "
   ]
  },
  {
   "cell_type": "code",
   "execution_count": 270,
   "metadata": {},
   "outputs": [
    {
     "name": "stdout",
     "output_type": "stream",
     "text": [
      "[[ 4  7  2  3]\n",
      " [ 5  9  1 13]\n",
      " [ 8 14 15  6]\n",
      " [12 11  0 10]] \n",
      "\n",
      " [[ 1  2 11  6]\n",
      " [ 4  9 10  5]\n",
      " [13  3  8  0]\n",
      " [14 12 15  7]]\n"
     ]
    },
    {
     "data": {
      "text/plain": [
       "36"
      ]
     },
     "execution_count": 270,
     "metadata": {},
     "output_type": "execute_result"
    }
   ],
   "source": [
    "def h(b1,b2,rank):\n",
    "    h_val = 0\n",
    "    for n in range(1,rank**2):\n",
    "        r1, c1 = np.where(b1==n)[0][0], np.where(b1==n)[1][0]\n",
    "        r2, c2 = np.where(b2==n)[0][0], np.where(b2==n)[1][0]\n",
    "        h_val += abs(r1-r2)+abs(c1-c2)\n",
    "    return h_val\n",
    "\n",
    "b1 = make_random_board(4)\n",
    "b2 = make_random_board(4)\n",
    "print(b1,\"\\n\\n\",b2)\n",
    "h(b1,b2,4)"
   ]
  },
  {
   "cell_type": "markdown",
   "metadata": {},
   "source": [
    "To store our distance estimates, we will want to hash the board arrays, which requires changing them to some other format (here we choose integers). While it may not be the most efficient to go back and forth between the two different forms, it is certainly convenient."
   ]
  },
  {
   "cell_type": "code",
   "execution_count": 271,
   "metadata": {},
   "outputs": [
    {
     "name": "stdout",
     "output_type": "stream",
     "text": [
      "[[8 3 0]\n",
      " [1 7 2]\n",
      " [5 4 6]]\n"
     ]
    },
    {
     "data": {
      "text/plain": [
       "645271038"
      ]
     },
     "execution_count": 271,
     "metadata": {},
     "output_type": "execute_result"
    }
   ],
   "source": [
    "def int_id(b, rank):\n",
    "    return np.sum(b.reshape(rank**2) * (rank**2+1)**np.arange(rank**2))\n",
    "\n",
    "print(b)\n",
    "int_id(b,3)"
   ]
  },
  {
   "cell_type": "markdown",
   "metadata": {},
   "source": [
    "Before we proceed to solutions, there is one remark to be made. A simple analysis shows that not all transitions are possible, for example\n",
    "$$\n",
    "\\begin{matrix} 0 & 1 \\\\ 2 & 3\\end{matrix} \\qquad \\to \\qquad \\begin{matrix} 3 & 1 \\\\ 2 & 0\\end{matrix}\n",
    "$$\n",
    "cannot be done as it is an odd permutation (0 is transposed with 3) and yet requires an even number of moves, which can be seen by colouring the grid like a chessboard. The above reasoning can be easily generalised : moving from one configuration to another is impossible if the parity of the required displacement $|\\delta x| + |\\delta y|$ of 0 does not match that of the overall permutation we would need to perform.\n",
    "\n",
    "The above remark allows us to conceive a procedure to filer out (at least some of) the unsolvable puzzles. To determine the sign of the overall permutation, we simply count the total numer of inversions (see https://en.wikipedia.org/wiki/Parity_of_a_permutation#Equivalence_of_the_two_definitions)."
   ]
  },
  {
   "cell_type": "code",
   "execution_count": 272,
   "metadata": {},
   "outputs": [
    {
     "data": {
      "text/plain": [
       "1"
      ]
     },
     "execution_count": 272,
     "metadata": {},
     "output_type": "execute_result"
    }
   ],
   "source": [
    "def parity(b):\n",
    "    p = np.where(b==0)[0][0] + np.where(b==0)[1][0] #displacement of 0 -> |x|+|y|\n",
    "    perm = b.reshape(b.size)\n",
    "    for i in range(len(perm)):\n",
    "        for j in range(i+1,len(perm)):\n",
    "            if perm[j] < perm[i]:\n",
    "                p += 1\n",
    "            #endif\n",
    "        #next j\n",
    "    #next i\n",
    "    return p%2\n",
    "\n",
    "parity(board([3,1,2,0]))"
   ]
  },
  {
   "cell_type": "code",
   "execution_count": 280,
   "metadata": {},
   "outputs": [],
   "source": [
    "def path(start, goal, max_steps = 10000):\n",
    "    rank = start.shape[0]\n",
    "    unvisited = [start] #nodes that have been seen but have not yet been visited\n",
    "    best_f = {} #format   node:dist (the best known distance from start to goal via node)\n",
    "    best_f_node = {} #for subsequent backtracking\n",
    "    best_g = {} #the best known distance from start\n",
    "\n",
    "    best_g[int_id(start,rank)] = 0\n",
    "    best_f[int_id(start,rank)] = h(start, goal, rank) + 1 #infinity \n",
    "    visited = {}\n",
    "\n",
    "    visited_goal = False\n",
    "    count = 0\n",
    "    while not visited_goal and len(unvisited) != 0 and count<max_steps:\n",
    "\n",
    "        current = unvisited.pop(0) #visit the best unvisited node\n",
    "        c_id = int_id(current,rank)\n",
    "\n",
    "        for n in neighbours(current, rank):\n",
    "\n",
    "            n_id = int_id(n,rank)\n",
    "\n",
    "            try: #check whether the node has been visited\n",
    "                visited[n_id]\n",
    "\n",
    "            except: #unvisited\n",
    "                h_ng = h(n, goal, rank)\n",
    "                try: #check whether it has been seen before\n",
    "                    best_g[n_id]\n",
    "                except: #add path via current\n",
    "                    best_g[n_id] = best_g[c_id] + 1\n",
    "                    best_f[n_id] = best_g[n_id] + h_ng\n",
    "                    best_f_node[n_id] = current\n",
    "                    \n",
    "                    #insert at the right place in the unvisited list\n",
    "                    ind = 0\n",
    "                    while ind<len(unvisited) and best_f[n_id] > best_f[int_id(unvisited[ind],rank)]:\n",
    "                        ind += 1\n",
    "                    unvisited.insert(ind,n)\n",
    "                else:\n",
    "                    f_via_current = best_g[c_id] + 1 + h_ng\n",
    "                    if f_via_current < best_f[n_id]: #a bbetter solution was found\n",
    "                        best_g[n_id] = best_g[c_id] + 1\n",
    "                        best_f[n_id] = f_via_current\n",
    "                        best_f_node[n_id] = current\n",
    "                        \n",
    "                        #re-insert at the right place in the unvisited list\n",
    "                        ind = 0\n",
    "                        while ind<len(unvisited) and best_f[n_id] > best_f[int_id(unvisited[ind],rank)]: #insert at right place\n",
    "                            ind += 1\n",
    "                        unvisited.insert(ind,n)\n",
    "                        #remove the other occurence\n",
    "                        ind += 1\n",
    "                        while False in (n == unvisited[ind]):\n",
    "                            ind += 1\n",
    "                        unvisited.pop(ind)\n",
    "\n",
    "                best_g[n_id] = best_g[c_id] + 1\n",
    "\n",
    "            else: #visited, ignore this neighbour\n",
    "                pass\n",
    "            #end try\n",
    "        #next neighbour\n",
    "        if False not in (current == goal):\n",
    "            visited_goal = True\n",
    "        count += 1\n",
    "    #endwhile\n",
    "    if count >= max_steps:\n",
    "        print(\"Max number of steps\", max_steps, \"reached for\", b1, b2)\n",
    "    try:\n",
    "        best_f[int_id(goal,rank)]\n",
    "    except:\n",
    "        return -1, [] #error\n",
    "    else:\n",
    "        solution = [goal]\n",
    "        current = goal\n",
    "        while False in (current == start):\n",
    "            current = best_f_node[int_id(current,rank)]\n",
    "            solution.append(current)\n",
    "        return best_f[int_id(goal,rank)], solution[::-1]\n",
    "    #endif\n",
    "#endfunction"
   ]
  },
  {
   "cell_type": "code",
   "execution_count": 274,
   "metadata": {},
   "outputs": [
    {
     "data": {
      "text/plain": [
       "array([[0, 1, 2],\n",
       "       [3, 4, 5],\n",
       "       [6, 7, 8]])"
      ]
     },
     "execution_count": 274,
     "metadata": {},
     "output_type": "execute_result"
    }
   ],
   "source": [
    "b1 = make_default_board()\n",
    "b1"
   ]
  },
  {
   "cell_type": "code",
   "execution_count": 275,
   "metadata": {},
   "outputs": [
    {
     "name": "stdout",
     "output_type": "stream",
     "text": [
      "13\n"
     ]
    },
    {
     "data": {
      "text/plain": [
       "(19,\n",
       " [array([[0, 5, 7],\n",
       "         [4, 6, 1],\n",
       "         [8, 3, 2]]),\n",
       "  array([[5, 0, 7],\n",
       "         [4, 6, 1],\n",
       "         [8, 3, 2]]),\n",
       "  array([[5, 7, 0],\n",
       "         [4, 6, 1],\n",
       "         [8, 3, 2]]),\n",
       "  array([[5, 7, 1],\n",
       "         [4, 6, 0],\n",
       "         [8, 3, 2]]),\n",
       "  array([[5, 7, 1],\n",
       "         [4, 6, 2],\n",
       "         [8, 3, 0]]),\n",
       "  array([[5, 7, 1],\n",
       "         [4, 6, 2],\n",
       "         [8, 0, 3]]),\n",
       "  array([[5, 7, 1],\n",
       "         [4, 6, 2],\n",
       "         [0, 8, 3]]),\n",
       "  array([[5, 7, 1],\n",
       "         [0, 6, 2],\n",
       "         [4, 8, 3]]),\n",
       "  array([[5, 7, 1],\n",
       "         [6, 0, 2],\n",
       "         [4, 8, 3]]),\n",
       "  array([[5, 0, 1],\n",
       "         [6, 7, 2],\n",
       "         [4, 8, 3]]),\n",
       "  array([[5, 1, 0],\n",
       "         [6, 7, 2],\n",
       "         [4, 8, 3]]),\n",
       "  array([[5, 1, 2],\n",
       "         [6, 7, 0],\n",
       "         [4, 8, 3]]),\n",
       "  array([[5, 1, 2],\n",
       "         [6, 7, 3],\n",
       "         [4, 8, 0]]),\n",
       "  array([[5, 1, 2],\n",
       "         [6, 7, 3],\n",
       "         [4, 0, 8]]),\n",
       "  array([[5, 1, 2],\n",
       "         [6, 0, 3],\n",
       "         [4, 7, 8]]),\n",
       "  array([[5, 0, 2],\n",
       "         [6, 1, 3],\n",
       "         [4, 7, 8]]),\n",
       "  array([[5, 2, 0],\n",
       "         [6, 1, 3],\n",
       "         [4, 7, 8]]),\n",
       "  array([[5, 2, 3],\n",
       "         [6, 1, 0],\n",
       "         [4, 7, 8]]),\n",
       "  array([[5, 2, 3],\n",
       "         [6, 0, 1],\n",
       "         [4, 7, 8]]),\n",
       "  array([[5, 2, 3],\n",
       "         [0, 6, 1],\n",
       "         [4, 7, 8]])])"
      ]
     },
     "execution_count": 275,
     "metadata": {},
     "output_type": "execute_result"
    }
   ],
   "source": [
    "def random_puzzle(rank=3, default_goal = False):\n",
    "    if default_goal:\n",
    "        b2 = make_default_board(rank)\n",
    "    else:\n",
    "        b2 = make_random_board(rank)\n",
    "    #endif\n",
    "    b1 = make_random_board(rank)\n",
    "    while parity(b1) != parity(b2):\n",
    "        b1 = make_random_board(rank)\n",
    "    return b1, b2\n",
    "\n",
    "b1, b2 = random_puzzle(default_goal=False)\n",
    "print(h(b1,b2,3))\n",
    "path(b1,b2)"
   ]
  },
  {
   "cell_type": "code",
   "execution_count": 282,
   "metadata": {},
   "outputs": [
    {
     "name": "stdout",
     "output_type": "stream",
     "text": [
      "14\n",
      "[[3 2 1]\n",
      " [8 5 4]\n",
      " [6 7 0]]\n",
      "[[4 2 3]\n",
      " [1 6 5]\n",
      " [7 8 0]]\n"
     ]
    },
    {
     "data": {
      "text/plain": [
       "(28,\n",
       " [array([[3, 2, 1],\n",
       "         [8, 5, 4],\n",
       "         [6, 7, 0]]),\n",
       "  array([[3, 2, 1],\n",
       "         [8, 5, 4],\n",
       "         [6, 0, 7]]),\n",
       "  array([[3, 2, 1],\n",
       "         [8, 0, 4],\n",
       "         [6, 5, 7]]),\n",
       "  array([[3, 0, 1],\n",
       "         [8, 2, 4],\n",
       "         [6, 5, 7]]),\n",
       "  array([[3, 1, 0],\n",
       "         [8, 2, 4],\n",
       "         [6, 5, 7]]),\n",
       "  array([[3, 1, 4],\n",
       "         [8, 2, 0],\n",
       "         [6, 5, 7]]),\n",
       "  array([[3, 1, 4],\n",
       "         [8, 0, 2],\n",
       "         [6, 5, 7]]),\n",
       "  array([[3, 1, 4],\n",
       "         [0, 8, 2],\n",
       "         [6, 5, 7]]),\n",
       "  array([[0, 1, 4],\n",
       "         [3, 8, 2],\n",
       "         [6, 5, 7]]),\n",
       "  array([[1, 0, 4],\n",
       "         [3, 8, 2],\n",
       "         [6, 5, 7]]),\n",
       "  array([[1, 4, 0],\n",
       "         [3, 8, 2],\n",
       "         [6, 5, 7]]),\n",
       "  array([[1, 4, 2],\n",
       "         [3, 8, 0],\n",
       "         [6, 5, 7]]),\n",
       "  array([[1, 4, 2],\n",
       "         [3, 0, 8],\n",
       "         [6, 5, 7]]),\n",
       "  array([[1, 4, 2],\n",
       "         [3, 5, 8],\n",
       "         [6, 0, 7]]),\n",
       "  array([[1, 4, 2],\n",
       "         [3, 5, 8],\n",
       "         [6, 7, 0]]),\n",
       "  array([[1, 4, 2],\n",
       "         [3, 5, 0],\n",
       "         [6, 7, 8]]),\n",
       "  array([[1, 4, 2],\n",
       "         [3, 0, 5],\n",
       "         [6, 7, 8]]),\n",
       "  array([[1, 4, 2],\n",
       "         [0, 3, 5],\n",
       "         [6, 7, 8]]),\n",
       "  array([[1, 4, 2],\n",
       "         [6, 3, 5],\n",
       "         [0, 7, 8]]),\n",
       "  array([[1, 4, 2],\n",
       "         [6, 3, 5],\n",
       "         [7, 0, 8]]),\n",
       "  array([[1, 4, 2],\n",
       "         [6, 3, 5],\n",
       "         [7, 8, 0]]),\n",
       "  array([[1, 4, 2],\n",
       "         [6, 3, 0],\n",
       "         [7, 8, 5]]),\n",
       "  array([[1, 4, 2],\n",
       "         [6, 0, 3],\n",
       "         [7, 8, 5]]),\n",
       "  array([[1, 4, 2],\n",
       "         [0, 6, 3],\n",
       "         [7, 8, 5]]),\n",
       "  array([[0, 4, 2],\n",
       "         [1, 6, 3],\n",
       "         [7, 8, 5]]),\n",
       "  array([[4, 0, 2],\n",
       "         [1, 6, 3],\n",
       "         [7, 8, 5]]),\n",
       "  array([[4, 2, 0],\n",
       "         [1, 6, 3],\n",
       "         [7, 8, 5]]),\n",
       "  array([[4, 2, 3],\n",
       "         [1, 6, 0],\n",
       "         [7, 8, 5]]),\n",
       "  array([[4, 2, 3],\n",
       "         [1, 6, 5],\n",
       "         [7, 8, 0]])])"
      ]
     },
     "execution_count": 282,
     "metadata": {},
     "output_type": "execute_result"
    }
   ],
   "source": [
    "b1, b2 = random_puzzle(3,default_goal=False)\n",
    "print(h(b1,b2,3))\n",
    "print(b1)\n",
    "print(b2)\n",
    "path(b1,b2)"
   ]
  },
  {
   "cell_type": "code",
   "execution_count": 263,
   "metadata": {},
   "outputs": [
    {
     "name": "stdout",
     "output_type": "stream",
     "text": [
      "0\n",
      "1\n",
      "2\n",
      "3\n",
      "4\n",
      "5\n",
      "6\n",
      "7\n",
      "8\n",
      "9\n",
      "10\n",
      "11\n",
      "12\n",
      "13\n",
      "14\n",
      "15\n",
      "16\n",
      "17\n",
      "18\n",
      "19\n"
     ]
    }
   ],
   "source": [
    "h_val = []\n",
    "d_val = []\n",
    "for i in range(20):\n",
    "    print(i)\n",
    "    b1, b2 = random_puzzle(3,default_goal=False)\n",
    "    d, sol = path(b1,b2)\n",
    "    h_val.append(h(b1,b2,3))\n",
    "    d_val.append(d)"
   ]
  },
  {
   "cell_type": "code",
   "execution_count": 267,
   "metadata": {},
   "outputs": [
    {
     "data": {
      "image/png": "[encoded data removed]",
      "text/plain": [
       "<Figure size 640x480 with 1 Axes>"
      ]
     },
     "metadata": {},
     "output_type": "display_data"
    }
   ],
   "source": [
    "plt.scatter(h_val,d_val, alpha=0.3, color='orange')\n",
    "plt.plot([0,max(h_val)],[0,max(h_val)], \"--\")\n",
    "#ax = plt.gca()\n",
    "#ax.set_aspect('equal', adjustable='box')\n",
    "plt.draw()"
   ]
  }
 ],
 "metadata": {
  "kernelspec": {
   "display_name": "base",
   "language": "python",
   "name": "python3"
  },
  "language_info": {
   "codemirror_mode": {
    "name": "ipython",
    "version": 3
   },
   "file_extension": ".py",
   "mimetype": "text/x-python",
   "name": "python",
   "nbconvert_exporter": "python",
   "pygments_lexer": "ipython3",
   "version": "3.11.5"
  }
 },
 "nbformat": 4,
 "nbformat_minor": 4
}
